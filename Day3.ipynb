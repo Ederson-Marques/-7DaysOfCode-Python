{
 "cells": [
  {
   "cell_type": "code",
   "execution_count": null,
   "id": "faf9af23",
   "metadata": {},
   "outputs": [],
   "source": [
    "area = input(\"Você quer seguir para área de 'Front-End' ou de 'Back-End'? Digite o nome da área:\")\n",
    "linguagem = \"\"\n",
    "if(area == \"Front-End\"):\n",
    "    linguagem = input(\"Você quer aprender React ou Vue?\")\n",
    "    \n",
    "elif(area == \"Back-End\"):\n",
    "    linguagem = input(\"Você quer aprender C# ou Java?\")\n",
    "else:\n",
    "    print(\"Você não inseriu uma área válida!\")\n",
    "    \n",
    "especialidade_ou_fullstack = input(\"Digite 1 para seguir se especializando na área escolhida ou 2 para seguir se desenvolvendo para se tornar Fullstack\")\n",
    "if(especialidade_ou_fullstack == '1'):\n",
    "    print(\"Continue se especializando em {1} para dominar a área de {0}!\".format(area , linguagem))\n",
    "elif(especialidade_ou_fullstack == '2'):\n",
    "    print(\"Chegou a hora de começar a aprender outras linguagens além de {0} se você quer se tornar Fullstack!\".format(linguagem))\n",
    "else:\n",
    "    print(\"Você não inseriu um valor válido\")\n",
    "\n",
    "msg = input(\"Tem mais alguma tecnologia que você gostaria de aprender? Digite 'ok' em caso positivo.\")\n",
    "while(msg == \"ok\"):\n",
    "    nova_tecnologia = input(\"qual?\")\n",
    "    print(\"{} é realmente uma tecnologia muito legal!\".format(nova_tecnologia))\n",
    "    msg = input(\"Tem mais alguma tecnologia que você gostaria de aprender? Digite 'ok' em caso positivo.\")\n"
   ]
  },
  {
   "cell_type": "code",
   "execution_count": null,
   "id": "aa06a7d3",
   "metadata": {
    "collapsed": true
   },
   "outputs": [],
   "source": []
  },
  {
   "cell_type": "code",
   "execution_count": null,
   "id": "220a92e2",
   "metadata": {},
   "outputs": [],
   "source": []
  }
 ],
 "metadata": {
  "kernelspec": {
   "display_name": "base",
   "language": "python",
   "name": "python3"
  },
  "language_info": {
   "codemirror_mode": {
    "name": "ipython",
    "version": 3
   },
   "file_extension": ".py",
   "mimetype": "text/x-python",
   "name": "python",
   "nbconvert_exporter": "python",
   "pygments_lexer": "ipython3",
   "version": "3.9.13"
  },
  "vscode": {
   "interpreter": {
    "hash": "6a5883665ac373add5db67a1a1d160c00886adb93d2b855aba7fadb82ae72cdb"
   }
  }
 },
 "nbformat": 4,
 "nbformat_minor": 5
}
