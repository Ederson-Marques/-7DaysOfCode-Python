{
 "cells": [
  {
   "cell_type": "code",
   "execution_count": 11,
   "id": "12edd66e",
   "metadata": {},
   "outputs": [
    {
     "name": "stdout",
     "output_type": "stream",
     "text": [
      "Digite seu nome: edr\n",
      "Digite sua idade: 54\n",
      "Qual linguagem você esta estudando? rwer\n",
      "Olá edr você tem 54 anos e ja esta aprendendo rwer!\n",
      "Você gosta de estudar rwer? Responda com o número 1 para SIM ou 2 para NÃO.6\n",
      "Comando Invalido\n"
     ]
    }
   ],
   "source": [
    "nome = input(\"Digite seu nome: \")\n",
    "idade = input(\"Digite sua idade: \")\n",
    "linguagem = input(\"Qual linguagem você esta estudando? \")\n",
    "\n",
    "print(\"Olá {} você tem {} anos e ja esta aprendendo {}!\".format(nome , idade , linguagem))\n",
    "\n",
    "resposta = int(input(\"Você gosta de estudar {}? Responda com o número 1 para SIM ou 2 para NÃO.\".format(linguagem)))\n",
    "\n",
    "if(resposta == 1):\n",
    "    print('Muito bom! Continue estudando e você terá muito sucesso.')\n",
    "elif(resposta == 2):\n",
    "    print('Ahh que pena... Já tentou aprender outras linguagens?')\n",
    "else:\n",
    "    print('Comando Invalido')\n",
    "\n"
   ]
  },
  {
   "cell_type": "code",
   "execution_count": null,
   "id": "d8715956",
   "metadata": {},
   "outputs": [],
   "source": []
  }
 ],
 "metadata": {
  "kernelspec": {
   "display_name": "base",
   "language": "python",
   "name": "python3"
  },
  "language_info": {
   "codemirror_mode": {
    "name": "ipython",
    "version": 3
   },
   "file_extension": ".py",
   "mimetype": "text/x-python",
   "name": "python",
   "nbconvert_exporter": "python",
   "pygments_lexer": "ipython3",
   "version": "3.9.13"
  },
  "vscode": {
   "interpreter": {
    "hash": "6a5883665ac373add5db67a1a1d160c00886adb93d2b855aba7fadb82ae72cdb"
   }
  }
 },
 "nbformat": 4,
 "nbformat_minor": 5
}
