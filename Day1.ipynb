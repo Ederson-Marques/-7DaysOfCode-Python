{
 "cells": [
  {
   "cell_type": "code",
   "execution_count": 2,
   "id": "1132dd50",
   "metadata": {},
   "outputs": [
    {
     "name": "stdout",
     "output_type": "stream",
     "text": [
      "As variáveis 1 e 1 tem o mesmo valor e tipos diferente\n",
      "As variáveis 30 e 50 tem o valor diferente e tipos diferente\n",
      "As variáveis 10 e 10 tem o mesmo valor e tipos diferente\n"
     ]
    }
   ],
   "source": [
    "numeroUm = 1\n",
    "stringUm = '1'\n",
    "numeroTrinta = 30\n",
    "stringTrinta = '50'\n",
    "numeroDez = 10\n",
    "stringDez = \"10\"\n",
    "\n",
    "if(type(numeroUm) == type(stringUm) and int(numeroUm) == int(stringUm)):\n",
    "    print('As variáveis {0} e {1} tem o mesmo valor e tipos iguais'.format(numeroUm , stringUm))\n",
    "elif(int(numeroUm) == int(stringUm) and type(numeroUm) != type(stringUm)):\n",
    "    print('As variáveis {0} e {1} tem o mesmo valor e tipos diferente'.format(numeroUm , stringUm))\n",
    "elif(type(numeroUm) != type(stringUm) and int(numeroUm) != int(stringUm)):\n",
    "     print('As variáveis {0} e {1} tem o valor diferente e tipos diferente'.format(numeroUm , stringUm))\n",
    "else:\n",
    "     print('As variáveis {0} e {1} tem o valor diferente e tipos iguais'.format(numeroUm , stringUm))\n",
    "\n",
    "if(type(numeroTrinta) == type(stringTrinta) and int(numeroTrinta) == int(stringTrinta)):\n",
    "    print('As variáveis {0} e {1} tem o mesmo valor e tipos iguais'.format(numeroTrinta , stringTrinta))\n",
    "elif(int(numeroTrinta) == int(stringTrinta) and type(numeroTrinta) != type(stringTrinta)):\n",
    "    print('As variáveis {0} e {1} tem o mesmo valor e tipos diferente'.format(numeroTrinta , stringTrinta))\n",
    "elif(type(numeroTrinta) != type(stringTrinta) and int(numeroTrinta) != int(stringTrinta)):\n",
    "     print('As variáveis {0} e {1} tem o valor diferente e tipos diferente'.format(numeroTrinta , stringTrinta))\n",
    "else:\n",
    "     print('As variáveis {0} e {1} tem o valor diferente e tipos iguais'.format(numeroTrinta , stringTrinta))\n",
    "        \n",
    "if(type(numeroDez) == type(stringDez) and int(numeroDez) == int(stringDez)):\n",
    "    print('As variáveis {0} e {1} tem o mesmo valor e tipos iguais'.format(numeroDez , stringDez))\n",
    "elif(int(numeroDez) == int(stringDez) and type(numeroDez) != type(stringDez)):\n",
    "    print('As variáveis {0} e {1} tem o mesmo valor e tipos diferente'.format(numeroDez , stringDez))\n",
    "elif(type(numeroDez) != type(stringDez) and int(numeroDez) != int(stringDez)):\n",
    "     print('As variáveis {0} e {1} tem o valor diferente e tipos diferente'.format(numeroDez , stringDez))\n",
    "else:\n",
    "     print('As variáveis {0} e {1} tem o valor diferente e tipos iguais'.format(numeroDez , stringDez))\n"
   ]
  },
  {
   "cell_type": "code",
   "execution_count": null,
   "id": "193c00b6",
   "metadata": {},
   "outputs": [],
   "source": [
    "\n",
    "    "
   ]
  }
 ],
 "metadata": {
  "kernelspec": {
   "display_name": "base",
   "language": "python",
   "name": "python3"
  },
  "language_info": {
   "codemirror_mode": {
    "name": "ipython",
    "version": 3
   },
   "file_extension": ".py",
   "mimetype": "text/x-python",
   "name": "python",
   "nbconvert_exporter": "python",
   "pygments_lexer": "ipython3",
   "version": "3.9.13"
  },
  "vscode": {
   "interpreter": {
    "hash": "6a5883665ac373add5db67a1a1d160c00886adb93d2b855aba7fadb82ae72cdb"
   }
  }
 },
 "nbformat": 4,
 "nbformat_minor": 5
}
