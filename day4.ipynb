{
 "cells": [
  {
   "cell_type": "code",
   "execution_count": 64,
   "metadata": {},
   "outputs": [
    {
     "name": "stdout",
     "output_type": "stream",
     "text": [
      "0\n",
      "Parabens você acertou! o numero secreto é 0 !\n"
     ]
    }
   ],
   "source": [
    "import random\n",
    "numero_secreto = random.randint(0,10)\n",
    "numero_tentativas = 0\n",
    "print(numero_secreto)\n",
    "\n",
    "\n",
    "for tentativa in range(3):\n",
    "    chute = int(input(\"Descubra o numero secreto de 0 a 10\"))\n",
    "    if numero_secreto == chute:\n",
    "        print(\"Parabens você acertou! o numero secreto é {} !\".format(numero_secreto))\n",
    "        break\n",
    "    else:\n",
    "        print(\"Tente novamente.\")\n",
    "else:\n",
    "    print(\"Suas tentativas acabaram o numero secreto é: {}\".format(numero_secreto))\n"
   ]
  },
  {
   "cell_type": "code",
   "execution_count": 63,
   "metadata": {},
   "outputs": [
    {
     "data": {
      "text/plain": [
       "0"
      ]
     },
     "execution_count": 63,
     "metadata": {},
     "output_type": "execute_result"
    }
   ],
   "source": [
    "0"
   ]
  },
  {
   "cell_type": "code",
   "execution_count": null,
   "metadata": {},
   "outputs": [],
   "source": []
  },
  {
   "cell_type": "code",
   "execution_count": null,
   "metadata": {},
   "outputs": [],
   "source": []
  }
 ],
 "metadata": {
  "kernelspec": {
   "display_name": "base",
   "language": "python",
   "name": "python3"
  },
  "language_info": {
   "codemirror_mode": {
    "name": "ipython",
    "version": 3
   },
   "file_extension": ".py",
   "mimetype": "text/x-python",
   "name": "python",
   "nbconvert_exporter": "python",
   "pygments_lexer": "ipython3",
   "version": "3.9.13"
  },
  "orig_nbformat": 4,
  "vscode": {
   "interpreter": {
    "hash": "6a5883665ac373add5db67a1a1d160c00886adb93d2b855aba7fadb82ae72cdb"
   }
  }
 },
 "nbformat": 4,
 "nbformat_minor": 2
}
